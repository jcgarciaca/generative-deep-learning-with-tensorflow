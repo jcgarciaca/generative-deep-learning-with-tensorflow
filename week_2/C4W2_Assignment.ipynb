{
  "nbformat": 4,
  "nbformat_minor": 0,
  "metadata": {
    "accelerator": "GPU",
    "kernelspec": {
      "display_name": "Python 3",
      "language": "python",
      "name": "python3"
    },
    "language_info": {
      "codemirror_mode": {
        "name": "ipython",
        "version": 3
      },
      "file_extension": ".py",
      "mimetype": "text/x-python",
      "name": "python",
      "nbconvert_exporter": "python",
      "pygments_lexer": "ipython3",
      "version": "3.7.4"
    },
    "colab": {
      "name": "C4W2_Assignment.ipynb",
      "provenance": [],
      "collapsed_sections": []
    }
  },
  "cells": [
    {
      "cell_type": "markdown",
      "metadata": {
        "id": "L6S2HVAkSt0p"
      },
      "source": [
        "# Week 2 Assignment: CIFAR-10 Autoencoder\n",
        "\n",
        "For this week, you will create a convolutional autoencoder for the [CIFAR10](https://www.tensorflow.org/datasets/catalog/cifar10) dataset. You are free to choose the architecture of your autoencoder provided that the output image has the same dimensions as the input image.\n",
        "\n",
        "After training, your model should meet loss and accuracy requirements when evaluated with the test dataset. You will then download the model and upload it in the classroom for grading. \n",
        "\n",
        "Let's begin!"
      ]
    },
    {
      "cell_type": "markdown",
      "metadata": {
        "id": "6r4iPr2jyisR"
      },
      "source": [
        "***Important:*** *This colab notebook has read-only access so you won't be able to save your changes. If you want to save your work periodically, please click `File -> Save a Copy in Drive` to create a copy in your account, then work from there.*  "
      ]
    },
    {
      "cell_type": "markdown",
      "metadata": {
        "id": "g1mzy2J8_nc1"
      },
      "source": [
        "## Imports"
      ]
    },
    {
      "cell_type": "code",
      "metadata": {
        "id": "3EXwoz-KHtWO"
      },
      "source": [
        "try:\n",
        "  # %tensorflow_version only exists in Colab.\n",
        "  %tensorflow_version 2.x\n",
        "except Exception:\n",
        "  pass\n",
        "\n",
        "import tensorflow as tf\n",
        "import tensorflow_datasets as tfds\n",
        "\n",
        "from keras.models import Sequential"
      ],
      "execution_count": 1,
      "outputs": []
    },
    {
      "cell_type": "markdown",
      "metadata": {
        "id": "n2Gs6Lyc_pd0"
      },
      "source": [
        "## Load and prepare the dataset\n",
        "\n",
        "The [CIFAR 10](https://www.tensorflow.org/datasets/catalog/cifar10) dataset already has train and test splits and you can use those in this exercise. Here are the general steps:\n",
        "\n",
        "* Load the train/test split from TFDS. Set `as_supervised` to `True` so it will be convenient to use the preprocessing function we provided.\n",
        "* Normalize the pixel values to the range [0,1], then return `image, image` pairs for training instead of `image, label`. This is because you will check if the output image is successfully regenerated after going through your autoencoder.\n",
        "* Shuffle and batch the train set. Batch the test set (no need to shuffle).\n"
      ]
    },
    {
      "cell_type": "code",
      "metadata": {
        "id": "t9F7YsCNIKSA"
      },
      "source": [
        "# preprocessing function\n",
        "def map_image(image, label):\n",
        "  image = tf.cast(image, dtype=tf.float32)\n",
        "  image = image / 255.0\n",
        "\n",
        "  return image, image # dataset label is not used. replaced with the same image input.\n",
        "\n",
        "# parameters\n",
        "BATCH_SIZE = 128\n",
        "SHUFFLE_BUFFER_SIZE = 1024\n",
        "\n",
        "\n",
        "### START CODE HERE (Replace instances of `None` with your code) ###\n",
        "\n",
        "# use tfds.load() to fetch the 'train' split of CIFAR-10\n",
        "train_dataset = tfds.load('cifar10', as_supervised=True, split='train')\n",
        "\n",
        "# preprocess the dataset with the `map_image()` function above\n",
        "train_dataset = train_dataset.map(map_image)\n",
        "\n",
        "# shuffle and batch the dataset\n",
        "train_dataset = train_dataset.shuffle(SHUFFLE_BUFFER_SIZE).batch(BATCH_SIZE)\n",
        "\n",
        "\n",
        "# use tfds.load() to fetch the 'test' split of CIFAR-10\n",
        "test_dataset = tfds.load('cifar10', as_supervised=True, split='test')\n",
        "\n",
        "# preprocess the dataset with the `map_image()` function above\n",
        "test_dataset = test_dataset.map(map_image)\n",
        "\n",
        "# batch the dataset\n",
        "test_dataset = test_dataset.batch(BATCH_SIZE)\n",
        "\n",
        "### END CODE HERE ###"
      ],
      "execution_count": 10,
      "outputs": []
    },
    {
      "cell_type": "markdown",
      "metadata": {
        "id": "rPyOgGJs_t98"
      },
      "source": [
        "## Build the Model\n",
        "\n",
        "Create the autoencoder model. As shown in the lectures, you will want to downsample the image in the encoder layers then upsample it in the decoder path. Note that the output layer should be the same dimensions as the original image. Your input images will have the shape `(32, 32, 3)`. If you deviate from this, your model may not be recognized by the grader and may fail. \n",
        "\n",
        "We included a few hints to use the Sequential API below but feel free to remove it and use the Functional API just like in the ungraded labs if you're more comfortable with it. Another reason to use the latter is if you want to visualize the encoder output. As shown in the ungraded labs, it will be easier to indicate multiple outputs with the Functional API. That is not required for this assignment though so you can just stack layers sequentially if you want a simpler solution."
      ]
    },
    {
      "cell_type": "code",
      "metadata": {
        "id": "Wr-Bok3lRgA3",
        "colab": {
          "base_uri": "https://localhost:8080/"
        },
        "outputId": "74583461-ac11-4f42-df37-593458b7c2b0"
      },
      "source": [
        "# suggested layers to use. feel free to add or remove as you see fit.\n",
        "from keras.layers import Conv2D, UpSampling2D, MaxPooling2D\n",
        "\n",
        "def get_autoencoder_model(input_shape):\n",
        "  model = Sequential([\n",
        "                      Conv2D(filters=64, kernel_size=(3, 3), activation='relu', padding='same', input_shape=input_shape), \n",
        "                      MaxPooling2D(pool_size=(2, 2)), \n",
        "                      Conv2D(filters=128, kernel_size=(3, 3), activation='relu', padding='same'), \n",
        "                      MaxPooling2D(pool_size=(2, 2)), \n",
        "                      Conv2D(filters=256, kernel_size=(3, 3), activation='relu', padding='same'), \n",
        "                      Conv2D(filters=128, kernel_size=(3, 3), activation='relu', padding='same'), \n",
        "                      UpSampling2D(size=(2, 2)), \n",
        "                      Conv2D(filters=64, kernel_size=(3, 3), activation ='relu', padding='same'), \n",
        "                      UpSampling2D(size=(2, 2)), \n",
        "                      Conv2D(filters=3, kernel_size=(3, 3), activation ='sigmoid', padding='same'), \n",
        "  ])\n",
        "  return model\n",
        "\n",
        "model = get_autoencoder_model((32, 32, 3))\n",
        "### END CODE HERE ###\n",
        "\n",
        "model.summary()"
      ],
      "execution_count": 15,
      "outputs": [
        {
          "output_type": "stream",
          "name": "stdout",
          "text": [
            "Model: \"sequential_2\"\n",
            "_________________________________________________________________\n",
            "Layer (type)                 Output Shape              Param #   \n",
            "=================================================================\n",
            "conv2d_12 (Conv2D)           (None, 32, 32, 64)        1792      \n",
            "_________________________________________________________________\n",
            "max_pooling2d_4 (MaxPooling2 (None, 16, 16, 64)        0         \n",
            "_________________________________________________________________\n",
            "conv2d_13 (Conv2D)           (None, 16, 16, 128)       73856     \n",
            "_________________________________________________________________\n",
            "max_pooling2d_5 (MaxPooling2 (None, 8, 8, 128)         0         \n",
            "_________________________________________________________________\n",
            "conv2d_14 (Conv2D)           (None, 8, 8, 256)         295168    \n",
            "_________________________________________________________________\n",
            "conv2d_15 (Conv2D)           (None, 8, 8, 128)         295040    \n",
            "_________________________________________________________________\n",
            "up_sampling2d_4 (UpSampling2 (None, 16, 16, 128)       0         \n",
            "_________________________________________________________________\n",
            "conv2d_16 (Conv2D)           (None, 16, 16, 64)        73792     \n",
            "_________________________________________________________________\n",
            "up_sampling2d_5 (UpSampling2 (None, 32, 32, 64)        0         \n",
            "_________________________________________________________________\n",
            "conv2d_17 (Conv2D)           (None, 32, 32, 3)         1731      \n",
            "=================================================================\n",
            "Total params: 741,379\n",
            "Trainable params: 741,379\n",
            "Non-trainable params: 0\n",
            "_________________________________________________________________\n"
          ]
        }
      ]
    },
    {
      "cell_type": "markdown",
      "metadata": {
        "id": "jRWTAijKEVUC"
      },
      "source": [
        "## Configure training parameters\n",
        "\n",
        "We have already provided the optimizer, metrics, and loss in the code below."
      ]
    },
    {
      "cell_type": "code",
      "metadata": {
        "id": "iHIeD9eDETSk"
      },
      "source": [
        "# Please do not change the model.compile() parameters\n",
        "model.compile(optimizer='adam', metrics=['accuracy'], loss='mean_squared_error')"
      ],
      "execution_count": 16,
      "outputs": []
    },
    {
      "cell_type": "markdown",
      "metadata": {
        "id": "tLQPhm1W_8dC"
      },
      "source": [
        "## Training\n",
        "\n",
        "You can now use [model.fit()](https://keras.io/api/models/model_training_apis/#fit-method) to train your model. You will pass in the `train_dataset` and you are free to configure the other parameters. As with any training, you should see the loss generally going down and the accuracy going up with each epoch. If not, please revisit the previous sections to find possible bugs.\n",
        "\n",
        "*Note: If you get a `dataset length is infinite` error. Please check how you defined `train_dataset`. You might have included a [method that repeats the dataset indefinitely](https://www.tensorflow.org/api_docs/python/tf/data/Dataset#repeat).*"
      ]
    },
    {
      "cell_type": "code",
      "metadata": {
        "id": "AMBimOnsRvg0",
        "colab": {
          "base_uri": "https://localhost:8080/"
        },
        "outputId": "9c28e8ea-56b8-4a83-8585-291e211147cc"
      },
      "source": [
        "# parameters (feel free to change this)\n",
        "train_steps = len(train_dataset) // BATCH_SIZE \n",
        "val_steps = len(test_dataset) // BATCH_SIZE\n",
        "\n",
        "### START CODE HERE ###\n",
        "model.fit(train_dataset, steps_per_epoch=train_steps, validation_data=test_dataset, validation_steps=val_steps, epochs=50)\n",
        "### END CODE HERE ###"
      ],
      "execution_count": 17,
      "outputs": [
        {
          "output_type": "stream",
          "name": "stdout",
          "text": [
            "Epoch 1/50\n",
            "3/3 [==============================] - 1s 111ms/step - loss: 0.0627 - accuracy: 0.4016\n",
            "Epoch 2/50\n",
            "3/3 [==============================] - 0s 93ms/step - loss: 0.0603 - accuracy: 0.4250\n",
            "Epoch 3/50\n",
            "3/3 [==============================] - 0s 94ms/step - loss: 0.0489 - accuracy: 0.5330\n",
            "Epoch 4/50\n",
            "3/3 [==============================] - 0s 87ms/step - loss: 0.0454 - accuracy: 0.5266\n",
            "Epoch 5/50\n",
            "3/3 [==============================] - 0s 83ms/step - loss: 0.0408 - accuracy: 0.5299\n",
            "Epoch 6/50\n",
            "3/3 [==============================] - 0s 98ms/step - loss: 0.0341 - accuracy: 0.5091\n",
            "Epoch 7/50\n",
            "3/3 [==============================] - 0s 88ms/step - loss: 0.0311 - accuracy: 0.5472\n",
            "Epoch 8/50\n",
            "3/3 [==============================] - 0s 89ms/step - loss: 0.0273 - accuracy: 0.5738\n",
            "Epoch 9/50\n",
            "3/3 [==============================] - 0s 94ms/step - loss: 0.0239 - accuracy: 0.6186\n",
            "Epoch 10/50\n",
            "3/3 [==============================] - 0s 89ms/step - loss: 0.0206 - accuracy: 0.5882\n",
            "Epoch 11/50\n",
            "3/3 [==============================] - 0s 90ms/step - loss: 0.0199 - accuracy: 0.6256\n",
            "Epoch 12/50\n",
            "3/3 [==============================] - 0s 89ms/step - loss: 0.0176 - accuracy: 0.6165\n",
            "Epoch 13/50\n",
            "3/3 [==============================] - 0s 87ms/step - loss: 0.0167 - accuracy: 0.6216\n",
            "Epoch 14/50\n",
            "3/3 [==============================] - 0s 90ms/step - loss: 0.0157 - accuracy: 0.6314\n",
            "Epoch 15/50\n",
            "3/3 [==============================] - 0s 87ms/step - loss: 0.0173 - accuracy: 0.6547\n",
            "Epoch 16/50\n",
            "3/3 [==============================] - 0s 96ms/step - loss: 0.0154 - accuracy: 0.6288\n",
            "Epoch 17/50\n",
            "3/3 [==============================] - 0s 91ms/step - loss: 0.0140 - accuracy: 0.6544\n",
            "Epoch 18/50\n",
            "3/3 [==============================] - 0s 90ms/step - loss: 0.0137 - accuracy: 0.6497\n",
            "Epoch 19/50\n",
            "3/3 [==============================] - 0s 88ms/step - loss: 0.0131 - accuracy: 0.6468\n",
            "Epoch 20/50\n",
            "3/3 [==============================] - 0s 91ms/step - loss: 0.0136 - accuracy: 0.6315\n",
            "Epoch 21/50\n",
            "3/3 [==============================] - 0s 83ms/step - loss: 0.0126 - accuracy: 0.6441\n",
            "Epoch 22/50\n",
            "3/3 [==============================] - 0s 86ms/step - loss: 0.0112 - accuracy: 0.6477\n",
            "Epoch 23/50\n",
            "3/3 [==============================] - 0s 88ms/step - loss: 0.0114 - accuracy: 0.6502\n",
            "Epoch 24/50\n",
            "3/3 [==============================] - 0s 90ms/step - loss: 0.0111 - accuracy: 0.6501\n",
            "Epoch 25/50\n",
            "3/3 [==============================] - 0s 98ms/step - loss: 0.0109 - accuracy: 0.6705\n",
            "Epoch 26/50\n",
            "3/3 [==============================] - 0s 87ms/step - loss: 0.0103 - accuracy: 0.6697\n",
            "Epoch 27/50\n",
            "3/3 [==============================] - 0s 89ms/step - loss: 0.0100 - accuracy: 0.6748\n",
            "Epoch 28/50\n",
            "3/3 [==============================] - 0s 87ms/step - loss: 0.0111 - accuracy: 0.6920\n",
            "Epoch 29/50\n",
            "3/3 [==============================] - 0s 92ms/step - loss: 0.0123 - accuracy: 0.6833\n",
            "Epoch 30/50\n",
            "3/3 [==============================] - 0s 85ms/step - loss: 0.0101 - accuracy: 0.7204\n",
            "Epoch 31/50\n",
            "3/3 [==============================] - 0s 83ms/step - loss: 0.0103 - accuracy: 0.7031\n",
            "Epoch 32/50\n",
            "3/3 [==============================] - 0s 87ms/step - loss: 0.0091 - accuracy: 0.6919\n",
            "Epoch 33/50\n",
            "3/3 [==============================] - 0s 86ms/step - loss: 0.0086 - accuracy: 0.7341\n",
            "Epoch 34/50\n",
            "3/3 [==============================] - 0s 93ms/step - loss: 0.0085 - accuracy: 0.7201\n",
            "Epoch 35/50\n",
            "3/3 [==============================] - 0s 81ms/step - loss: 0.0084 - accuracy: 0.7254\n",
            "Epoch 36/50\n",
            "3/3 [==============================] - 0s 92ms/step - loss: 0.0083 - accuracy: 0.7503\n",
            "Epoch 37/50\n",
            "3/3 [==============================] - 0s 90ms/step - loss: 0.0079 - accuracy: 0.7456\n",
            "Epoch 38/50\n",
            "3/3 [==============================] - 0s 89ms/step - loss: 0.0079 - accuracy: 0.7369\n",
            "Epoch 39/50\n",
            "3/3 [==============================] - 0s 85ms/step - loss: 0.0080 - accuracy: 0.7378\n",
            "Epoch 40/50\n",
            "3/3 [==============================] - 0s 83ms/step - loss: 0.0078 - accuracy: 0.7558\n",
            "Epoch 41/50\n",
            "3/3 [==============================] - 0s 85ms/step - loss: 0.0077 - accuracy: 0.7619\n",
            "Epoch 42/50\n",
            "3/3 [==============================] - 0s 81ms/step - loss: 0.0080 - accuracy: 0.7522\n",
            "Epoch 43/50\n",
            "3/3 [==============================] - 0s 90ms/step - loss: 0.0077 - accuracy: 0.7527\n",
            "Epoch 44/50\n",
            "3/3 [==============================] - 0s 90ms/step - loss: 0.0072 - accuracy: 0.7713\n",
            "Epoch 45/50\n",
            "3/3 [==============================] - 0s 83ms/step - loss: 0.0072 - accuracy: 0.7604\n",
            "Epoch 46/50\n",
            "3/3 [==============================] - 0s 84ms/step - loss: 0.0071 - accuracy: 0.7482\n",
            "Epoch 47/50\n",
            "3/3 [==============================] - 0s 91ms/step - loss: 0.0074 - accuracy: 0.7606\n",
            "Epoch 48/50\n",
            "3/3 [==============================] - 0s 86ms/step - loss: 0.0082 - accuracy: 0.7779\n",
            "Epoch 49/50\n",
            "3/3 [==============================] - 0s 83ms/step - loss: 0.0071 - accuracy: 0.7624\n",
            "Epoch 50/50\n",
            "3/3 [==============================] - 0s 86ms/step - loss: 0.0066 - accuracy: 0.7573\n"
          ]
        },
        {
          "output_type": "execute_result",
          "data": {
            "text/plain": [
              "<keras.callbacks.History at 0x7fed303e4850>"
            ]
          },
          "metadata": {},
          "execution_count": 17
        }
      ]
    },
    {
      "cell_type": "markdown",
      "metadata": {
        "id": "PT2l1c-SAaF4"
      },
      "source": [
        "## Model evaluation\n",
        "\n",
        "You can use this code to test your model locally before uploading to the grader. To pass, your model needs to satisfy these two requirements:\n",
        "\n",
        "* loss must be less than 0.01 \n",
        "* accuracy must be greater than 0.6"
      ]
    },
    {
      "cell_type": "code",
      "metadata": {
        "id": "vFncgqahSQhA",
        "colab": {
          "base_uri": "https://localhost:8080/"
        },
        "outputId": "04c3dc1d-c080-493f-83f7-417b506e3509"
      },
      "source": [
        "result = model.evaluate(test_dataset, steps=10)"
      ],
      "execution_count": 18,
      "outputs": [
        {
          "output_type": "stream",
          "name": "stdout",
          "text": [
            "10/10 [==============================] - 1s 40ms/step - loss: 0.0071 - accuracy: 0.7714\n"
          ]
        }
      ]
    },
    {
      "cell_type": "markdown",
      "metadata": {
        "id": "di6VOHGwIsVM"
      },
      "source": [
        "If you did some visualization like in the ungraded labs, then you might see something like the gallery below. This part is not required."
      ]
    },
    {
      "cell_type": "markdown",
      "metadata": {
        "id": "wmpI4skkIA5L"
      },
      "source": [
        "<img src=\"https://drive.google.com/uc?export=view&id=12Fy-guiP-3tTPfc9IV2nHhqLvs7LwRo6\" width=\"75%\" height=\"75%\"/>"
      ]
    },
    {
      "cell_type": "markdown",
      "metadata": {
        "id": "uaRSkQPNAPT0"
      },
      "source": [
        "## Save your model\n",
        "\n",
        "Once you are satisfied with the results, you can now save your model. Please download it from the Files window on the left and go back to the Submission portal in Coursera for grading."
      ]
    },
    {
      "cell_type": "code",
      "metadata": {
        "id": "pLFpLP-c7rDR"
      },
      "source": [
        "model.save('mymodel.h5')"
      ],
      "execution_count": 19,
      "outputs": []
    },
    {
      "cell_type": "markdown",
      "metadata": {
        "id": "QArMiXJTDxDe"
      },
      "source": [
        "**Congratulations on completing this week's assignment!**"
      ]
    }
  ]
}